{
 "cells": [
  {
   "attachments": {},
   "cell_type": "markdown",
   "metadata": {},
   "source": [
    "##### Продакт на главной mail.ru решил протестировать в рекомендательной ленте контента вместо карточек со статьями видеоплеер с короткими видео. Нынешний таймспент на юзера в день в среднем равен 25 минут, а стандартная ошибка (SD) равна 156. Мы предполагаем, что в новой версии таймспент на юзера в день изменится на 10%. Средний трафик 20000 человек в день. Посчитайте сколько дней необходимо держать эксперимент при alpha = 5% и beta = 20% ."
   ]
  },
  {
   "cell_type": "code",
   "execution_count": 4,
   "metadata": {},
   "outputs": [],
   "source": [
    "import math\n",
    "import numpy as np\n",
    "import scipy.stats as sc"
   ]
  },
  {
   "cell_type": "code",
   "execution_count": 5,
   "metadata": {},
   "outputs": [
    {
     "name": "stdout",
     "output_type": "stream",
     "text": [
      "1.0\n"
     ]
    }
   ],
   "source": [
    "users = 20000\n",
    "sd = 156\n",
    "alpha = 0.05\n",
    "beta = 0.2\n",
    "ft = 0.1\n",
    "delta = ft*users\n",
    "stand_error = sd/np.sqrt(users) \n",
    "conf_lim = stand_error * sc.norm.ppf(1-alpha/2)\n",
    "crit_alpha = sc.norm.ppf(1-alpha)\n",
    "crit_beta = sc.norm.ppf(1-beta)\n",
    "num1 = (crit_alpha*conf_lim + crit_beta*sd/delta)**2\n",
    "num2 = (crit_alpha*conf_lim - crit_beta*sd/delta)**2\n",
    "num1 = (crit_alpha*conf_lim + crit_beta*sd/delta)**2\n",
    "num2 = (crit_alpha*conf_lim + crit_beta*sd/delta)**2\n",
    "test_duration = np.ceil(np.ceil(max(num1, num2))/users)\n",
    "print(test_duration)"
   ]
  },
  {
   "attachments": {},
   "cell_type": "markdown",
   "metadata": {},
   "source": [
    "##### Наша продуктовая команда в ecommerce магазине планирует запустить тест, направленный на ускорение загрузки сайта. Одна из основных метрик bounce rate в GA = 40%. Мы предполагаем, что при оптимизации сайта она изменится минимум на 20%.Средний трафик 4000 человек в день. Посчитайте сколько нам нужно дней держать эксперимент при alpha = 5% и beta = 20%"
   ]
  },
  {
   "cell_type": "code",
   "execution_count": 6,
   "metadata": {},
   "outputs": [
    {
     "name": "stdout",
     "output_type": "stream",
     "text": [
      "5 дней.\n"
     ]
    }
   ],
   "source": [
    "def culc_size(mean1, mean2, alpha, beta, power, baseline):\n",
    "    std1 = math.sqrt(baseline * (1 - baseline))\n",
    "    z_alpha = sc.norm.ppf(1 - alpha / 2)\n",
    "    z_beta = sc.norm.ppf(power)\n",
    "    std2 = std1 * math.sqrt((baseline - mean2) ** 2 / (mean1 - mean2) ** 2)\n",
    "    return ((std1 * z_alpha + std2 * z_beta) / (mean1 - mean2)) ** 2\n",
    "result = round(culc_size(mean1=0.4, mean2=-0.2, alpha=0.05, beta=0.2, power=0.8, baseline=0.4))\n",
    "print(f'{result} дней.')"
   ]
  }
 ],
 "metadata": {
  "kernelspec": {
   "display_name": "Python 3",
   "language": "python",
   "name": "python3"
  },
  "language_info": {
   "codemirror_mode": {
    "name": "ipython",
    "version": 3
   },
   "file_extension": ".py",
   "mimetype": "text/x-python",
   "name": "python",
   "nbconvert_exporter": "python",
   "pygments_lexer": "ipython3",
   "version": "3.10.2"
  },
  "orig_nbformat": 4
 },
 "nbformat": 4,
 "nbformat_minor": 2
}
