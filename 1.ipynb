{
 "cells": [
  {
   "attachments": {},
   "cell_type": "markdown",
   "metadata": {},
   "source": [
    "*Весь ноутбук оформляйте с заголовками и текстами\n",
    "**Номер задачи = заголовок 2\n"
   ]
  },
  {
   "attachments": {},
   "cell_type": "markdown",
   "metadata": {},
   "source": [
    "###номер подзадачи - заголовок 3\n"
   ]
  },
  {
   "cell_type": "markdown",
   "metadata": {},
   "source": [
    "Предоставленные наборы данных оформите как код"
   ]
  },
  {
   "cell_type": "code",
   "execution_count": 30,
   "metadata": {},
   "outputs": [],
   "source": [
    "dist1 = {'One':1, 'Two': 2, 'Three': 3}\n",
    "dist2 = {'four':4,'Five': 5, 'Six':6}\n"
   ]
  },
  {
   "cell_type": "code",
   "execution_count": 31,
   "metadata": {},
   "outputs": [
    {
     "data": {
      "text/plain": [
       "{'One': 1, 'Two': 2, 'Three': 3, 'four': 4, 'Five': 5, 'Six': 6}"
      ]
     },
     "execution_count": 31,
     "metadata": {},
     "output_type": "execute_result"
    }
   ],
   "source": [
    "def merge(dic1:dist1,dic2:dist2)->dict:\n",
    "    return dic1 | dic2\n",
    "merge(dist1, dist2)\n"
   ]
  },
  {
   "cell_type": "code",
   "execution_count": 32,
   "metadata": {},
   "outputs": [],
   "source": [
    "keys = ['one','two','three']\n",
    "values = [1,2,3]\n",
    "\n"
   ]
  },
  {
   "cell_type": "code",
   "execution_count": 33,
   "metadata": {},
   "outputs": [],
   "source": [
    "def make_dic(data1,data2):\n",
    "    empty_dict={}\n",
    "    for i in range(len(data1)):\n",
    "        empty_dict[data1[i]] = data2[i]\n",
    "        \n",
    "        return empty_dict"
   ]
  },
  {
   "cell_type": "code",
   "execution_count": 34,
   "metadata": {},
   "outputs": [
    {
     "data": {
      "text/plain": [
       "{'one': 1}"
      ]
     },
     "execution_count": 34,
     "metadata": {},
     "output_type": "execute_result"
    }
   ],
   "source": [
    "temp=make_dic(keys,values)\n",
    "temp"
   ]
  },
  {
   "cell_type": "markdown",
   "metadata": {},
   "source": []
  },
  {
   "cell_type": "code",
   "execution_count": 35,
   "metadata": {},
   "outputs": [],
   "source": [
    "keys=['one', 'two', 'three']\n",
    "values = [1,2,3]"
   ]
  },
  {
   "cell_type": "code",
   "execution_count": 36,
   "metadata": {},
   "outputs": [
    {
     "data": {
      "text/plain": [
       "{'one': 1, 'two': 2, 'three': 3}"
      ]
     },
     "execution_count": 36,
     "metadata": {},
     "output_type": "execute_result"
    }
   ],
   "source": [
    "dict_new= dict(zip(keys,values))\n",
    "dict_new"
   ]
  },
  {
   "cell_type": "code",
   "execution_count": 37,
   "metadata": {},
   "outputs": [
    {
     "data": {
      "text/plain": [
       "{'one': 1, 'two': 2, 'three': 3}"
      ]
     },
     "execution_count": 37,
     "metadata": {},
     "output_type": "execute_result"
    }
   ],
   "source": [
    "# используя list comprehensions\n",
    "{keys[i]:values[i] for i in range(len(keys))}"
   ]
  },
  {
   "cell_type": "code",
   "execution_count": 38,
   "metadata": {},
   "outputs": [],
   "source": [
    "client_dict = {'name':'John', 'age': 25, 'salary': 500000, 'city':'Toronto'}\n",
    "keys = ['name', 'age']\n"
   ]
  },
  {
   "cell_type": "code",
   "execution_count": null,
   "metadata": {},
   "outputs": [],
   "source": []
  },
  {
   "cell_type": "code",
   "execution_count": 39,
   "metadata": {},
   "outputs": [],
   "source": [
    "def func_key(d:dict, *args):\n",
    "    result = {}\n",
    "    for key in args:\n",
    "        if key not in d.keys():\n",
    "            raise ValueError('Нет таких')\n",
    "        result[key] = d.get(key)\n",
    "        return result\n",
    "    "
   ]
  },
  {
   "cell_type": "code",
   "execution_count": 40,
   "metadata": {},
   "outputs": [
    {
     "data": {
      "text/plain": [
       "{'age': 25}"
      ]
     },
     "execution_count": 40,
     "metadata": {},
     "output_type": "execute_result"
    }
   ],
   "source": [
    "func_key(client_dict, 'age', 'salary')"
   ]
  },
  {
   "cell_type": "markdown",
   "metadata": {},
   "source": []
  },
  {
   "cell_type": "code",
   "execution_count": 41,
   "metadata": {},
   "outputs": [],
   "source": [
    "from random import seed, randint\n",
    "\n"
   ]
  },
  {
   "cell_type": "code",
   "execution_count": 42,
   "metadata": {},
   "outputs": [
    {
     "data": {
      "text/plain": [
       "[17, 72, 97, 8, 32]"
      ]
     },
     "execution_count": 42,
     "metadata": {},
     "output_type": "execute_result"
    }
   ],
   "source": [
    "seed(1)\n",
    "result = [randint(0,100) for _ in range(5)]\n",
    "result"
   ]
  },
  {
   "cell_type": "code",
   "execution_count": 43,
   "metadata": {},
   "outputs": [],
   "source": [
    "import time"
   ]
  },
  {
   "cell_type": "code",
   "execution_count": 44,
   "metadata": {},
   "outputs": [],
   "source": [
    "def my_generator(result: list):\n",
    "     for element in result:\n",
    "        current_time = time.time()\n",
    "        yield element, current_time\n",
    "        finish_time = time.time()\n",
    "        print('здесь показывается как отработало', finish_time - current_time)\n",
    "        "
   ]
  },
  {
   "cell_type": "code",
   "execution_count": 45,
   "metadata": {},
   "outputs": [
    {
     "name": "stdout",
     "output_type": "stream",
     "text": [
      "(17, 1678875635.1938012)\n",
      "здесь показывается как отработало 0.0\n",
      "(72, 1678875635.1938012)\n",
      "здесь показывается как отработало 0.0\n",
      "(97, 1678875635.1938012)\n",
      "здесь показывается как отработало 0.0\n",
      "(8, 1678875635.1938012)\n",
      "здесь показывается как отработало 0.0\n",
      "(32, 1678875635.1938012)\n",
      "здесь показывается как отработало 0.0\n"
     ]
    }
   ],
   "source": [
    "for value in my_generator(result):\n",
    "    print(value)\n",
    "    "
   ]
  },
  {
   "cell_type": "code",
   "execution_count": 48,
   "metadata": {},
   "outputs": [],
   "source": [
    "# пример на args\n",
    "\n",
    "def multiply(*args):\n",
    "    a=1\n",
    "    for num in args:\n",
    "        a*=num\n",
    "        print(a)\n",
    "        \n",
    "       "
   ]
  },
  {
   "cell_type": "code",
   "execution_count": 49,
   "metadata": {},
   "outputs": [
    {
     "name": "stdout",
     "output_type": "stream",
     "text": [
      "8\n",
      "40\n",
      "240\n",
      "5280\n",
      "475200\n"
     ]
    }
   ],
   "source": [
    "multiply(8,5,6,22,90)"
   ]
  },
  {
   "cell_type": "code",
   "execution_count": 52,
   "metadata": {},
   "outputs": [],
   "source": [
    "#пример для kwargs\n",
    "\n",
    "def print_values(**kwargs):\n",
    "    for key, value in kwargs.items():\n",
    "        print('значения для {} являются {}'.format(key,value)) "
   ]
  },
  {
   "cell_type": "code",
   "execution_count": 53,
   "metadata": {},
   "outputs": [
    {
     "name": "stdout",
     "output_type": "stream",
     "text": [
      "значения для name_1 являются John Dhow\n",
      "значения для name_2 являются Jane Dhow\n",
      "значения для name_3 являются Joe Goldberg\n"
     ]
    }
   ],
   "source": [
    "print_values(\n",
    "    name_1 = 'John Dhow',\n",
    "    name_2=  'Jane Dhow',\n",
    "    name_3 = 'Joe Goldberg'\n",
    ")"
   ]
  },
  {
   "cell_type": "code",
   "execution_count": 54,
   "metadata": {},
   "outputs": [],
   "source": [
    "def some_func(requared_arg, *args, **kwargs):\n",
    "    print('r_a', requared_arg)\n",
    "    if args:\n",
    "        print('args are:', args)\n",
    "    if kwargs:\n",
    "        print('kwargs are:', kwargs)"
   ]
  },
  {
   "cell_type": "code",
   "execution_count": 56,
   "metadata": {},
   "outputs": [
    {
     "name": "stdout",
     "output_type": "stream",
     "text": [
      "r_a req args\n",
      "args are: (1, 2, 89, 'oops', [1, 'smth'])\n",
      "kwargs are: {'name': 'John'}\n"
     ]
    }
   ],
   "source": [
    "some_func('req args', 1,2,89,'oops', [1,'smth'], name='John')"
   ]
  },
  {
   "cell_type": "code",
   "execution_count": 57,
   "metadata": {},
   "outputs": [],
   "source": [
    "def coasts_and_mean(*args):\n",
    "    return{\n",
    "        'sum': sum(args),\n",
    "        'mean': sum(args)/len(args)\n",
    "    }"
   ]
  },
  {
   "cell_type": "code",
   "execution_count": 58,
   "metadata": {},
   "outputs": [
    {
     "data": {
      "text/plain": [
       "{'sum': 970, 'mean': 242.5}"
      ]
     },
     "execution_count": 58,
     "metadata": {},
     "output_type": "execute_result"
    }
   ],
   "source": [
    "coasts_and_mean(5,60,105,800)"
   ]
  }
 ],
 "metadata": {
  "kernelspec": {
   "display_name": "Python 3",
   "language": "python",
   "name": "python3"
  },
  "language_info": {
   "codemirror_mode": {
    "name": "ipython",
    "version": 3
   },
   "file_extension": ".py",
   "mimetype": "text/x-python",
   "name": "python",
   "nbconvert_exporter": "python",
   "pygments_lexer": "ipython3",
   "version": "3.10.2"
  },
  "orig_nbformat": 4
 },
 "nbformat": 4,
 "nbformat_minor": 2
}
